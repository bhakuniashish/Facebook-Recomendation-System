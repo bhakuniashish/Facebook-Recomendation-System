{
 "cells": [
  {
   "cell_type": "markdown",
   "metadata": {
    "id": "naWvqMEMHglO"
   },
   "source": [
    "<p style=\"font-size:32px;text-align:center\"> <b>Social network Graph Link Prediction - Facebook Challenge</b> </p>"
   ]
  },
  {
   "cell_type": "code",
   "execution_count": 1,
   "metadata": {
    "executionInfo": {
     "elapsed": 1469,
     "status": "ok",
     "timestamp": 1623513710080,
     "user": {
      "displayName": "Applied AI Course",
      "photoUrl": "https://lh3.googleusercontent.com/a-/AOh14GjjpR94Niu_srJxsFT_3bp9vDfqrjd2Zx94jDQdMg=s64",
      "userId": "06629147635963609455"
     },
     "user_tz": -330
    },
    "id": "9wb9N5RzHglP"
   },
   "outputs": [],
   "source": [
    "#Importing Libraries\n",
    "# please do go through this python notebook: \n",
    "import warnings\n",
    "warnings.filterwarnings(\"ignore\")\n",
    "\n",
    "import csv\n",
    "import pandas as pd#pandas to create small dataframes \n",
    "import datetime #Convert to unix time\n",
    "import time #Convert to unix time\n",
    "# if numpy is not installed already : pip3 install numpy\n",
    "import numpy as np#Do aritmetic operations on arrays\n",
    "# matplotlib: used to plot graphs\n",
    "import matplotlib\n",
    "import matplotlib.pylab as plt\n",
    "import seaborn as sns#Plots\n",
    "from matplotlib import rcParams#Size of plots  \n",
    "from sklearn.cluster import MiniBatchKMeans, KMeans#Clustering\n",
    "import math\n",
    "import pickle\n",
    "import os\n",
    "# to install xgboost: pip3 install xgboost\n",
    "import xgboost as xgb\n",
    "\n",
    "import warnings\n",
    "import networkx as nx\n",
    "import pdb\n",
    "import pickle\n",
    "from pandas import HDFStore,DataFrame\n",
    "from pandas import read_hdf\n",
    "from scipy.sparse.linalg import svds, eigs\n",
    "import gc\n",
    "from tqdm import tqdm\n",
    "from sklearn.ensemble import RandomForestClassifier\n",
    "from sklearn.metrics import f1_score"
   ]
  },
  {
   "cell_type": "code",
   "execution_count": 42,
   "metadata": {
    "id": "XC4OJFKkHglU"
   },
   "outputs": [],
   "source": [
    "#reading\n",
    "from pandas import read_hdf\n",
    "df_final_train = read_hdf('data/fea_sample/storage_sample_stage4.h5', 'train_df',mode='r')\n",
    "df_final_test = read_hdf('data/fea_sample/storage_sample_stage4.h5', 'test_df',mode='r')"
   ]
  },
  {
   "cell_type": "code",
   "execution_count": 43,
   "metadata": {
    "colab": {
     "base_uri": "https://localhost:8080/"
    },
    "executionInfo": {
     "elapsed": 488,
     "status": "ok",
     "timestamp": 1622116766238,
     "user": {
      "displayName": "Applied AI Course",
      "photoUrl": "https://lh3.googleusercontent.com/a-/AOh14GjjpR94Niu_srJxsFT_3bp9vDfqrjd2Zx94jDQdMg=s64",
      "userId": "06629147635963609455"
     },
     "user_tz": -330
    },
    "id": "5Gm-BHRkHglW",
    "outputId": "86cf5cc7-3680-4b9a-871a-e94fda0978c6"
   },
   "outputs": [
    {
     "data": {
      "text/plain": [
       "Index(['source_node', 'destination_node', 'indicator_link',\n",
       "       'jaccard_followers', 'jaccard_followees', 'cosine_followers',\n",
       "       'cosine_followees', 'num_followers_s', 'num_followees_s',\n",
       "       'num_followees_d', 'inter_followers', 'inter_followees', 'adar_index',\n",
       "       'follows_back', 'same_comp', 'shortest_path', 'weight_in', 'weight_out',\n",
       "       'weight_f1', 'weight_f2', 'weight_f3', 'weight_f4', 'page_rank_s',\n",
       "       'page_rank_d', 'katz_s', 'katz_d', 'hubs_s', 'hubs_d', 'authorities_s',\n",
       "       'authorities_d', 'svd_u_s_1', 'svd_u_s_2', 'svd_u_s_3', 'svd_u_s_4',\n",
       "       'svd_u_s_5', 'svd_u_s_6', 'svd_u_d_1', 'svd_u_d_2', 'svd_u_d_3',\n",
       "       'svd_u_d_4', 'svd_u_d_5', 'svd_u_d_6', 'svd_v_s_1', 'svd_v_s_2',\n",
       "       'svd_v_s_3', 'svd_v_s_4', 'svd_v_s_5', 'svd_v_s_6', 'svd_v_d_1',\n",
       "       'svd_v_d_2', 'svd_v_d_3', 'svd_v_d_4', 'svd_v_d_5', 'svd_v_d_6'],\n",
       "      dtype='object')"
      ]
     },
     "execution_count": 43,
     "metadata": {},
     "output_type": "execute_result"
    }
   ],
   "source": [
    "df_final_train.columns"
   ]
  },
  {
   "cell_type": "code",
   "execution_count": 44,
   "metadata": {},
   "outputs": [
    {
     "data": {
      "text/plain": [
       "Index(['source_node', 'destination_node', 'indicator_link',\n",
       "       'jaccard_followers', 'jaccard_followees', 'cosine_followers',\n",
       "       'cosine_followees', 'num_followers_s', 'num_followees_s',\n",
       "       'num_followees_d', 'inter_followers', 'inter_followees', 'adar_index',\n",
       "       'follows_back', 'same_comp', 'shortest_path', 'weight_in', 'weight_out',\n",
       "       'weight_f1', 'weight_f2', 'weight_f3', 'weight_f4', 'page_rank_s',\n",
       "       'page_rank_d', 'katz_s', 'katz_d', 'hubs_s', 'hubs_d', 'authorities_s',\n",
       "       'authorities_d', 'svd_u_s_1', 'svd_u_s_2', 'svd_u_s_3', 'svd_u_s_4',\n",
       "       'svd_u_s_5', 'svd_u_s_6', 'svd_u_d_1', 'svd_u_d_2', 'svd_u_d_3',\n",
       "       'svd_u_d_4', 'svd_u_d_5', 'svd_u_d_6', 'svd_v_s_1', 'svd_v_s_2',\n",
       "       'svd_v_s_3', 'svd_v_s_4', 'svd_v_s_5', 'svd_v_s_6', 'svd_v_d_1',\n",
       "       'svd_v_d_2', 'svd_v_d_3', 'svd_v_d_4', 'svd_v_d_5', 'svd_v_d_6'],\n",
       "      dtype='object')"
      ]
     },
     "execution_count": 44,
     "metadata": {},
     "output_type": "execute_result"
    }
   ],
   "source": [
    "df_final_test.columns"
   ]
  },
  {
   "cell_type": "markdown",
   "metadata": {},
   "source": [
    "### Preferential Attachment with followers and followees data of vertex"
   ]
  },
  {
   "cell_type": "code",
   "execution_count": 45,
   "metadata": {},
   "outputs": [
    {
     "name": "stdout",
     "output_type": "stream",
     "text": [
      "DiGraph with 1862196 nodes and 15100030 edges\n"
     ]
    }
   ],
   "source": [
    "if os.path.isfile('data/after_eda/train_after_eda.csv'):\n",
    "    train_graph=nx.read_edgelist('data/after_eda/train_after_eda.csv',delimiter=',',create_using=nx.DiGraph(),nodetype=int)\n",
    "    print(nx.info(train_graph))"
   ]
  },
  {
   "cell_type": "code",
   "execution_count": 46,
   "metadata": {},
   "outputs": [
    {
     "name": "stdout",
     "output_type": "stream",
     "text": [
      "DiGraph with 1767753 nodes and 3775008 edges\n"
     ]
    }
   ],
   "source": [
    "if os.path.isfile('data/after_eda/test_after_eda.csv'):\n",
    "    test_graph=nx.read_edgelist('data/after_eda/test_after_eda.csv',delimiter=',',create_using=nx.DiGraph(),nodetype=int)\n",
    "    print(nx.info(test_graph))"
   ]
  },
  {
   "cell_type": "code",
   "execution_count": 47,
   "metadata": {},
   "outputs": [],
   "source": [
    "def preferantial_attachment_followers(s,d):\n",
    "    if len(set(train_graph.predecessors(s))) == 0  | len(set(train_graph.predecessors(d))) == 0:\n",
    "            return 0\n",
    "    ps=len(set(train_graph.predecessors(s)))\n",
    "    pd=len(set(train_graph.predecessors(d)))\n",
    "    score=ps*pd\n",
    "    return score\n",
    "\n",
    "def preferantial_attachment_followees(s,d):\n",
    "    if len(set(train_graph.successors(s))) == 0  | len(set(train_graph.successors(d))) == 0:\n",
    "            return 0\n",
    "    ps=len(set(train_graph.successors(s)))\n",
    "    pd=len(set(train_graph.successors(d)))\n",
    "    score=ps*pd\n",
    "    return score\n",
    "\n",
    "def preferantial_attachment_followers_t(s,d):\n",
    "    if len(set(test_graph.predecessors(s))) == 0  | len(set(test_graph.predecessors(d))) == 0:\n",
    "            return 0\n",
    "    ps=len(set(test_graph.predecessors(s)))\n",
    "    pd=len(set(test_graph.predecessors(d)))\n",
    "    score=ps*pd\n",
    "    return score\n",
    "\n",
    "def preferantial_attachment_followees_t(s,d):\n",
    "    if len(set(test_graph.successors(s))) == 0  | len(set(test_graph.successors(d))) == 0:\n",
    "            return 0\n",
    "    ps=len(set(test_graph.successors(s)))\n",
    "    pd=len(set(test_graph.successors(d)))\n",
    "    score=ps*pd\n",
    "    return score"
   ]
  },
  {
   "cell_type": "markdown",
   "metadata": {},
   "source": [
    "### Final Dataset"
   ]
  },
  {
   "cell_type": "code",
   "execution_count": 49,
   "metadata": {},
   "outputs": [],
   "source": [
    "df_final_train['pa_followers'] = df_final_train.apply(lambda row: preferantial_attachment_followers(row['source_node'],row['destination_node']),axis=1)"
   ]
  },
  {
   "cell_type": "code",
   "execution_count": 50,
   "metadata": {},
   "outputs": [],
   "source": [
    "df_final_train['pa_followees'] = df_final_train.apply(lambda row: preferantial_attachment_followees(row['source_node'],row['destination_node']),axis=1)"
   ]
  },
  {
   "cell_type": "code",
   "execution_count": 51,
   "metadata": {},
   "outputs": [],
   "source": [
    "df_final_test['pa_followers'] = df_final_test.apply(lambda row: preferantial_attachment_followers_t(row['source_node'],row['destination_node']),axis=1)\n",
    "df_final_test['pa_followees'] = df_final_test.apply(lambda row: preferantial_attachment_followees_t(row['source_node'],row['destination_node']),axis=1)"
   ]
  },
  {
   "cell_type": "code",
   "execution_count": 52,
   "metadata": {},
   "outputs": [
    {
     "name": "stdout",
     "output_type": "stream",
     "text": [
      "*******************************************\n",
      "(100002,)\n",
      "(100002,)\n"
     ]
    }
   ],
   "source": [
    "x1 = list(df_final_train['svd_u_s_1'])\n",
    "x2 = list(df_final_train['svd_u_s_2'])\n",
    "x3 = list(df_final_train['svd_u_s_3'])\n",
    "x4 = list(df_final_train['svd_u_s_4'])\n",
    "x5 = list(df_final_train['svd_u_s_5'])\n",
    "x6 = list(df_final_train['svd_u_s_6'])\n",
    "\n",
    "x7 = list(df_final_train['svd_u_d_1'])\n",
    "x8 = list(df_final_train['svd_u_d_2'])\n",
    "x9 = list(df_final_train['svd_u_d_3'])\n",
    "x10 = list(df_final_train['svd_u_d_4'])\n",
    "x11 = list(df_final_train['svd_u_d_5'])\n",
    "x12 = list(df_final_train['svd_u_d_6'])\n",
    "\n",
    "y1 = list(df_final_train['svd_v_s_1'])\n",
    "y2 = list(df_final_train['svd_v_s_2'])\n",
    "y3 = list(df_final_train['svd_v_s_3'])\n",
    "y4 = list(df_final_train['svd_v_s_4'])\n",
    "y5 = list(df_final_train['svd_v_s_5'])\n",
    "y6 = list(df_final_train['svd_v_s_6'])\n",
    "\n",
    "y7 = list(df_final_train['svd_v_d_1'])\n",
    "y8 = list(df_final_train['svd_v_d_2'])\n",
    "y9 = list(df_final_train['svd_v_d_3'])\n",
    "y10 = list(df_final_train['svd_v_d_4'])\n",
    "y11 = list(df_final_train['svd_v_d_5'])\n",
    "y12 = list(df_final_train['svd_v_d_6'])\n",
    "\n",
    "train_u_source = []\n",
    "train_u_destination = []\n",
    "train_v_source = []\n",
    "train_v_destination = []\n",
    "train_u_s_dot = []\n",
    "train_u_d_dot = []\n",
    "\n",
    "for loop1 in range(0,len(x1)):\n",
    "    train_u_source.append(x1[loop1])                             \n",
    "    train_u_source.append(x2[loop1])\n",
    "    train_u_source.append(x3[loop1])\n",
    "    train_u_source.append(x4[loop1])\n",
    "    train_u_source.append(x5[loop1])\n",
    "    train_u_source.append(x6[loop1])\n",
    "\n",
    "    train_u_destination.append(x7[loop1]) \n",
    "    train_u_destination.append(x8[loop1])\n",
    "    train_u_destination.append(x9[loop1])\n",
    "    train_u_destination.append(x10[loop1])\n",
    "    train_u_destination.append(x11[loop1])\n",
    "    train_u_destination.append(x12[loop1])\n",
    "\n",
    "    dot_product = np.dot(train_u_source[loop1],train_u_destination[loop1])\n",
    "    train_u_s_dot.append(dot_product)\n",
    "\n",
    "    \n",
    "for loop2 in range(0,len(y1)):   \n",
    "    train_v_source.append(y1[loop2]) \n",
    "    train_v_source.append(y2[loop2])\n",
    "    train_v_source.append(y3[loop2])\n",
    "    train_v_source.append(y4[loop2])\n",
    "    train_v_source.append(y5[loop2])\n",
    "    train_v_source.append(y6[loop2])\n",
    "\n",
    "    train_v_destination.append(y7[loop2]) \n",
    "    train_v_destination.append(y8[loop2])\n",
    "    train_v_destination.append(y9[loop2])\n",
    "    train_v_destination.append(y10[loop2])\n",
    "    train_v_destination.append(y11[loop2])\n",
    "    train_v_destination.append(y12[loop2])\n",
    "\n",
    "    dot_product = np.dot(train_v_source[loop2],train_v_destination[loop2])\n",
    "    train_u_d_dot.append(dot_product)\n",
    "    \n",
    "print(\"*******************************************\")\n",
    "print(np.shape(train_u_s_dot))\n",
    "print(np.shape(train_u_d_dot))"
   ]
  },
  {
   "cell_type": "code",
   "execution_count": 53,
   "metadata": {},
   "outputs": [
    {
     "name": "stdout",
     "output_type": "stream",
     "text": [
      "*******************************************\n",
      "(50002,)\n",
      "(50002,)\n"
     ]
    }
   ],
   "source": [
    "# for Test data\n",
    "\n",
    "x1 = list(df_final_test['svd_u_s_1'])\n",
    "x2 = list(df_final_test['svd_u_s_2'])\n",
    "x3 = list(df_final_test['svd_u_s_3'])\n",
    "x4 = list(df_final_test['svd_u_s_4'])\n",
    "x5 = list(df_final_test['svd_u_s_5'])\n",
    "x6 = list(df_final_test['svd_u_s_6'])\n",
    "\n",
    "x7 = list(df_final_test['svd_u_d_1'])\n",
    "x8 = list(df_final_test['svd_u_d_2'])\n",
    "x9 = list(df_final_test['svd_u_d_3'])\n",
    "x10 = list(df_final_test['svd_u_d_4'])\n",
    "x11 = list(df_final_test['svd_u_d_5'])\n",
    "x12 = list(df_final_test['svd_u_d_6'])\n",
    "\n",
    "y1 = list(df_final_test['svd_v_s_1'])\n",
    "y2 = list(df_final_test['svd_v_s_2'])\n",
    "y3 = list(df_final_test['svd_v_s_3'])\n",
    "y4 = list(df_final_test['svd_v_s_4'])\n",
    "y5 = list(df_final_test['svd_v_s_5'])\n",
    "y6 = list(df_final_test['svd_v_s_6'])\n",
    "\n",
    "y7 = list(df_final_test['svd_v_d_1'])\n",
    "y8 = list(df_final_test['svd_v_d_2'])\n",
    "y9 = list(df_final_test['svd_v_d_3'])\n",
    "y10 = list(df_final_test['svd_v_d_4'])\n",
    "y11 = list(df_final_test['svd_v_d_5'])\n",
    "y12 = list(df_final_test['svd_v_d_6'])\n",
    "\n",
    "test_u_source = []\n",
    "test_u_destination = []\n",
    "test_v_source = []\n",
    "test_v_destination = []\n",
    "test_v_s_dot = []\n",
    "test_v_d_dot = []\n",
    "\n",
    "for loop3 in range(0,len(x1)):\n",
    "    test_u_source.append(x1[loop3])                              \n",
    "    test_u_source.append(x2[loop3])\n",
    "    test_u_source.append(x3[loop3])\n",
    "    test_u_source.append(x4[loop3])\n",
    "    test_u_source.append(x5[loop3])\n",
    "    test_u_source.append(x6[loop3])\n",
    "\n",
    "    test_u_destination.append(x7[loop3])\n",
    "    test_u_destination.append(x8[loop3])\n",
    "    test_u_destination.append(x9[loop3])\n",
    "    test_u_destination.append(x10[loop3])\n",
    "    test_u_destination.append(x11[loop3])\n",
    "    test_u_destination.append(x12[loop3])\n",
    "    \n",
    "    dot_product = np.dot(test_u_source[loop3],test_u_destination[loop3])\n",
    "    test_v_s_dot.append(dot_product)\n",
    "\n",
    "for loop4 in range(0,len(y1)):\n",
    "    test_v_source.append(y1[loop4])\n",
    "    test_v_source.append(y2[loop4])\n",
    "    test_v_source.append(y3[loop4])\n",
    "    test_v_source.append(y4[loop4])\n",
    "    test_v_source.append(y5[loop4])\n",
    "    test_v_source.append(y6[loop4])\n",
    "\n",
    "    test_v_destination.append(y7[loop4])\n",
    "    test_v_destination.append(y8[loop4])\n",
    "    test_v_destination.append(y9[loop4])\n",
    "    test_v_destination.append(y10[loop4])\n",
    "    test_v_destination.append(y11[loop4])\n",
    "    test_v_destination.append(y12[loop4])\n",
    "    dot_product = np.dot(test_v_source[loop4],test_v_destination[loop4])\n",
    "    test_v_d_dot.append(dot_product)\n",
    "\n",
    "print(\"*******************************************\")\n",
    "print(np.shape(test_v_s_dot))\n",
    "print(np.shape(test_v_d_dot))"
   ]
  },
  {
   "cell_type": "code",
   "execution_count": 54,
   "metadata": {},
   "outputs": [
    {
     "name": "stdout",
     "output_type": "stream",
     "text": [
      "Current Time =  2022-02-18 17:18:01.175500\n",
      "Time taken for creation of dataframe is 0:00:03.959332\n"
     ]
    }
   ],
   "source": [
    "startTime = datetime.datetime.now()\n",
    "print(\"Current Time = \",startTime)\n",
    "\n",
    "if not os.path.isfile('data/fea_sample/storage_sample_stage6.h5'):\n",
    "    #===================================================================================================\n",
    "    df_final_train['s_dot'] = np.array(train_u_s_dot)\n",
    "    df_final_train['d_dot'] = np.array(train_u_d_dot)\n",
    "    \n",
    "    df_final_test['s_dot'] = np.array(test_v_s_dot)\n",
    "    df_final_test['d_dot'] = np.array(test_v_d_dot)\n",
    "\n",
    "    hdf = HDFStore('data/fea_sample/storage_sample_stage6.h5')\n",
    "    hdf.put('train_df',df_final_train, format='table', data_columns=True)\n",
    "    hdf.put('test_df',df_final_test, format='table', data_columns=True)\n",
    "    hdf.close()\n",
    "else:\n",
    "    df_final_train = read_hdf('data/fea_sample/storage_sample_stage6.h5', 'train_df',mode='r')\n",
    "    df_final_test = read_hdf('data/fea_sample/storage_sample_stage6.h5', 'test_df',mode='r')\n",
    "    \n",
    "print(\"Time taken for creation of dataframe is {}\".format(datetime.datetime.now() - startTime))"
   ]
  },
  {
   "cell_type": "code",
   "execution_count": 55,
   "metadata": {},
   "outputs": [],
   "source": [
    "#reading\n",
    "from pandas import read_hdf\n",
    "df_final_train = read_hdf('data/fea_sample/storage_sample_stage6.h5', 'train_df',mode='r')\n",
    "df_final_test = read_hdf('data/fea_sample/storage_sample_stage6.h5', 'test_df',mode='r')"
   ]
  },
  {
   "cell_type": "code",
   "execution_count": 56,
   "metadata": {},
   "outputs": [
    {
     "data": {
      "text/plain": [
       "Index(['source_node', 'destination_node', 'indicator_link',\n",
       "       'jaccard_followers', 'jaccard_followees', 'cosine_followers',\n",
       "       'cosine_followees', 'num_followers_s', 'num_followees_s',\n",
       "       'num_followees_d', 'inter_followers', 'inter_followees', 'adar_index',\n",
       "       'follows_back', 'same_comp', 'shortest_path', 'weight_in', 'weight_out',\n",
       "       'weight_f1', 'weight_f2', 'weight_f3', 'weight_f4', 'page_rank_s',\n",
       "       'page_rank_d', 'katz_s', 'katz_d', 'hubs_s', 'hubs_d', 'authorities_s',\n",
       "       'authorities_d', 'svd_u_s_1', 'svd_u_s_2', 'svd_u_s_3', 'svd_u_s_4',\n",
       "       'svd_u_s_5', 'svd_u_s_6', 'svd_u_d_1', 'svd_u_d_2', 'svd_u_d_3',\n",
       "       'svd_u_d_4', 'svd_u_d_5', 'svd_u_d_6', 'svd_v_s_1', 'svd_v_s_2',\n",
       "       'svd_v_s_3', 'svd_v_s_4', 'svd_v_s_5', 'svd_v_s_6', 'svd_v_d_1',\n",
       "       'svd_v_d_2', 'svd_v_d_3', 'svd_v_d_4', 'svd_v_d_5', 'svd_v_d_6',\n",
       "       'pa_followers', 'pa_followees', 's_dot', 'd_dot'],\n",
       "      dtype='object')"
      ]
     },
     "execution_count": 56,
     "metadata": {},
     "output_type": "execute_result"
    }
   ],
   "source": [
    "df_final_test.columns"
   ]
  },
  {
   "cell_type": "code",
   "execution_count": 57,
   "metadata": {},
   "outputs": [
    {
     "data": {
      "text/plain": [
       "Index(['source_node', 'destination_node', 'indicator_link',\n",
       "       'jaccard_followers', 'jaccard_followees', 'cosine_followers',\n",
       "       'cosine_followees', 'num_followers_s', 'num_followees_s',\n",
       "       'num_followees_d', 'inter_followers', 'inter_followees', 'adar_index',\n",
       "       'follows_back', 'same_comp', 'shortest_path', 'weight_in', 'weight_out',\n",
       "       'weight_f1', 'weight_f2', 'weight_f3', 'weight_f4', 'page_rank_s',\n",
       "       'page_rank_d', 'katz_s', 'katz_d', 'hubs_s', 'hubs_d', 'authorities_s',\n",
       "       'authorities_d', 'svd_u_s_1', 'svd_u_s_2', 'svd_u_s_3', 'svd_u_s_4',\n",
       "       'svd_u_s_5', 'svd_u_s_6', 'svd_u_d_1', 'svd_u_d_2', 'svd_u_d_3',\n",
       "       'svd_u_d_4', 'svd_u_d_5', 'svd_u_d_6', 'svd_v_s_1', 'svd_v_s_2',\n",
       "       'svd_v_s_3', 'svd_v_s_4', 'svd_v_s_5', 'svd_v_s_6', 'svd_v_d_1',\n",
       "       'svd_v_d_2', 'svd_v_d_3', 'svd_v_d_4', 'svd_v_d_5', 'svd_v_d_6',\n",
       "       'pa_followers', 'pa_followees', 's_dot', 'd_dot'],\n",
       "      dtype='object')"
      ]
     },
     "execution_count": 57,
     "metadata": {},
     "output_type": "execute_result"
    }
   ],
   "source": [
    "df_final_train.columns"
   ]
  },
  {
   "cell_type": "code",
   "execution_count": 58,
   "metadata": {
    "id": "XRW7VZ4AHglc"
   },
   "outputs": [],
   "source": [
    "y_train = df_final_train.indicator_link\n",
    "y_test = df_final_test.indicator_link"
   ]
  },
  {
   "cell_type": "code",
   "execution_count": 59,
   "metadata": {
    "id": "4lj9M_qtHglf"
   },
   "outputs": [],
   "source": [
    "df_final_train.drop(['source_node', 'destination_node','indicator_link'],axis=1,inplace=True)\n",
    "df_final_test.drop(['source_node', 'destination_node','indicator_link'],axis=1,inplace=True)"
   ]
  },
  {
   "cell_type": "code",
   "execution_count": 60,
   "metadata": {},
   "outputs": [
    {
     "data": {
      "text/plain": [
       "(100002, 55)"
      ]
     },
     "execution_count": 60,
     "metadata": {},
     "output_type": "execute_result"
    }
   ],
   "source": [
    "df_final_train.shape"
   ]
  },
  {
   "cell_type": "code",
   "execution_count": 61,
   "metadata": {},
   "outputs": [
    {
     "data": {
      "text/plain": [
       "(50002, 55)"
      ]
     },
     "execution_count": 61,
     "metadata": {},
     "output_type": "execute_result"
    }
   ],
   "source": [
    "df_final_test.shape"
   ]
  },
  {
   "cell_type": "code",
   "execution_count": 62,
   "metadata": {},
   "outputs": [
    {
     "data": {
      "text/plain": [
       "(100002,)"
      ]
     },
     "execution_count": 62,
     "metadata": {},
     "output_type": "execute_result"
    }
   ],
   "source": [
    "y_train.shape"
   ]
  },
  {
   "cell_type": "code",
   "execution_count": 63,
   "metadata": {},
   "outputs": [
    {
     "data": {
      "text/plain": [
       "(50002,)"
      ]
     },
     "execution_count": 63,
     "metadata": {},
     "output_type": "execute_result"
    }
   ],
   "source": [
    "y_test.shape"
   ]
  },
  {
   "cell_type": "code",
   "execution_count": 64,
   "metadata": {
    "colab": {
     "base_uri": "https://localhost:8080/",
     "height": 398
    },
    "executionInfo": {
     "elapsed": 102570,
     "status": "ok",
     "timestamp": 1622116876643,
     "user": {
      "displayName": "Applied AI Course",
      "photoUrl": "https://lh3.googleusercontent.com/a-/AOh14GjjpR94Niu_srJxsFT_3bp9vDfqrjd2Zx94jDQdMg=s64",
      "userId": "06629147635963609455"
     },
     "user_tz": -330
    },
    "id": "lIEc91uVHgli",
    "outputId": "748b0a7a-8234-4f52-8367-92bc9e3f23f7"
   },
   "outputs": [
    {
     "name": "stdout",
     "output_type": "stream",
     "text": [
      "Estimators =  10 Train Score 0.9219834258216011 test Score 0.8984438984438985\n",
      "Estimators =  50 Train Score 0.9206461698801459 test Score 0.9099387439326819\n",
      "Estimators =  100 Train Score 0.921223277412877 test Score 0.9176783004552352\n",
      "Estimators =  250 Train Score 0.9212977498691785 test Score 0.9176004718173393\n",
      "Estimators =  450 Train Score 0.9221144692380923 test Score 0.9184795198483732\n"
     ]
    },
    {
     "data": {
      "text/plain": [
       "Text(0.5, 1.0, 'Estimators vs score at depth of 5')"
      ]
     },
     "execution_count": 64,
     "metadata": {},
     "output_type": "execute_result"
    },
    {
     "data": {
      "image/png": "[encoded data removed]",
      "text/plain": [
       "<Figure size 432x288 with 1 Axes>"
      ]
     },
     "metadata": {
      "needs_background": "light"
     },
     "output_type": "display_data"
    }
   ],
   "source": [
    "estimators = [10,50,100,250,450]\n",
    "train_scores = []\n",
    "test_scores = []\n",
    "for i in estimators:\n",
    "    clf = RandomForestClassifier(bootstrap=True, class_weight=None, criterion='gini',\n",
    "            max_depth=5, max_features='auto', max_leaf_nodes=None,\n",
    "            min_impurity_decrease=0.0, min_impurity_split=None,\n",
    "            min_samples_leaf=52, min_samples_split=120,\n",
    "            min_weight_fraction_leaf=0.0, n_estimators=i, n_jobs=-1,random_state=25,verbose=0,warm_start=False)\n",
    "    clf.fit(df_final_train,y_train)\n",
    "    train_sc = f1_score(y_train,clf.predict(df_final_train))\n",
    "    test_sc = f1_score(y_test,clf.predict(df_final_test))\n",
    "    test_scores.append(test_sc)\n",
    "    train_scores.append(train_sc)\n",
    "    print('Estimators = ',i,'Train Score',train_sc,'test Score',test_sc)\n",
    "plt.plot(estimators,train_scores,label='Train Score')\n",
    "plt.plot(estimators,test_scores,label='Test Score')\n",
    "plt.xlabel('Estimators')\n",
    "plt.ylabel('Score')\n",
    "plt.title('Estimators vs score at depth of 5')"
   ]
  },
  {
   "cell_type": "code",
   "execution_count": 65,
   "metadata": {
    "id": "nZxhrTdQHglm",
    "outputId": "53382b8e-148d-4c22-8066-d9807fb27012"
   },
   "outputs": [
    {
     "name": "stdout",
     "output_type": "stream",
     "text": [
      "depth =  3 Train Score 0.9113669987688424 test Score 0.8998550450620785\n",
      "depth =  9 Train Score 0.9582165890635665 test Score 0.9228801476138556\n",
      "depth =  11 Train Score 0.9600911968569654 test Score 0.9236540436322486\n",
      "depth =  15 Train Score 0.9643447653246503 test Score 0.9240714866640253\n",
      "depth =  20 Train Score 0.9642220060001621 test Score 0.9247608305134312\n",
      "depth =  35 Train Score 0.9646188158961881 test Score 0.9252004677581023\n",
      "depth =  50 Train Score 0.9646188158961881 test Score 0.9252004677581023\n",
      "depth =  70 Train Score 0.9646188158961881 test Score 0.9252004677581023\n",
      "depth =  130 Train Score 0.9646188158961881 test Score 0.9252004677581023\n"
     ]
    },
    {
     "data": {
      "image/png": "[encoded data removed]",
      "text/plain": [
       "<Figure size 432x288 with 1 Axes>"
      ]
     },
     "metadata": {
      "needs_background": "light"
     },
     "output_type": "display_data"
    }
   ],
   "source": [
    "depths = [3,9,11,15,20,35,50,70,130]\n",
    "train_scores = []\n",
    "test_scores = []\n",
    "for i in depths:\n",
    "    clf = RandomForestClassifier(bootstrap=True, class_weight=None, criterion='gini',\n",
    "            max_depth=i, max_features='auto', max_leaf_nodes=None,\n",
    "            min_impurity_decrease=0.0, min_impurity_split=None,\n",
    "            min_samples_leaf=52, min_samples_split=120,\n",
    "            min_weight_fraction_leaf=0.0, n_estimators=115, n_jobs=-1,random_state=25,verbose=0,warm_start=False)\n",
    "    clf.fit(df_final_train,y_train)\n",
    "    train_sc = f1_score(y_train,clf.predict(df_final_train))\n",
    "    test_sc = f1_score(y_test,clf.predict(df_final_test))\n",
    "    test_scores.append(test_sc)\n",
    "    train_scores.append(train_sc)\n",
    "    print('depth = ',i,'Train Score',train_sc,'test Score',test_sc)\n",
    "plt.plot(depths,train_scores,label='Train Score')\n",
    "plt.plot(depths,test_scores,label='Test Score')\n",
    "plt.xlabel('Depth')\n",
    "plt.ylabel('Score')\n",
    "plt.title('Depth vs score at depth of 5 at estimators = 115')\n",
    "plt.show()"
   ]
  },
  {
   "cell_type": "code",
   "execution_count": 67,
   "metadata": {
    "id": "MrG1Lfl3Hglq",
    "outputId": "7b6e3c97-8d66-455d-cd79-213f824719cc"
   },
   "outputs": [
    {
     "name": "stdout",
     "output_type": "stream",
     "text": [
      "mean test scores [0.96276917 0.96220101 0.96103101 0.96261687 0.96358805]\n",
      "mean train scores [0.96379017 0.96280752 0.96131401 0.96314388 0.96479838]\n"
     ]
    }
   ],
   "source": [
    "from sklearn.metrics import f1_score\n",
    "from sklearn.ensemble import RandomForestClassifier\n",
    "from sklearn.metrics import f1_score\n",
    "from sklearn.model_selection import RandomizedSearchCV\n",
    "from scipy.stats import randint as sp_randint\n",
    "from scipy.stats import uniform\n",
    "\n",
    "param_dist = {\"n_estimators\":sp_randint(105,125),\n",
    "              \"max_depth\": sp_randint(10,15),\n",
    "              \"min_samples_split\": sp_randint(110,190),\n",
    "              \"min_samples_leaf\": sp_randint(25,65)}\n",
    "\n",
    "clf = RandomForestClassifier(random_state=25,n_jobs=-1)\n",
    "\n",
    "rf_random = RandomizedSearchCV(clf, param_distributions=param_dist,\n",
    "                                   n_iter=5,cv=10,scoring='f1',random_state=25,return_train_score=True)\n",
    "\n",
    "rf_random.fit(df_final_train,y_train)\n",
    "print('mean test scores',rf_random.cv_results_['mean_test_score'])\n",
    "print('mean train scores',rf_random.cv_results_['mean_train_score'])"
   ]
  },
  {
   "cell_type": "code",
   "execution_count": 68,
   "metadata": {
    "id": "hme3j_diHglu",
    "outputId": "581ccc02-7770-4a94-d003-257af4e81570"
   },
   "outputs": [
    {
     "name": "stdout",
     "output_type": "stream",
     "text": [
      "RandomForestClassifier(max_depth=14, min_samples_leaf=28, min_samples_split=111,\n",
      "                       n_estimators=121, n_jobs=-1, random_state=25)\n"
     ]
    }
   ],
   "source": [
    "print(rf_random.best_estimator_)"
   ]
  },
  {
   "cell_type": "code",
   "execution_count": 69,
   "metadata": {
    "id": "qu4KIEweHglx"
   },
   "outputs": [],
   "source": [
    "clf = RandomForestClassifier(bootstrap=True, class_weight=None, criterion='gini',\n",
    "            max_depth=14, max_features='auto', max_leaf_nodes=None,\n",
    "            min_impurity_decrease=0.0, min_impurity_split=None,\n",
    "            min_samples_leaf=28, min_samples_split=111,\n",
    "            min_weight_fraction_leaf=0.0, n_estimators=121, n_jobs=-1,\n",
    "            oob_score=False, random_state=25, verbose=0, warm_start=False)"
   ]
  },
  {
   "cell_type": "code",
   "execution_count": 70,
   "metadata": {
    "id": "Dax83GfLHgl1"
   },
   "outputs": [],
   "source": [
    "clf.fit(df_final_train,y_train)\n",
    "y_train_pred = clf.predict(df_final_train)\n",
    "y_test_pred = clf.predict(df_final_test)"
   ]
  },
  {
   "cell_type": "code",
   "execution_count": 71,
   "metadata": {
    "id": "PTtAp1iTHgl4",
    "outputId": "e2e3d725-3c4d-4374-d303-8f294b570977"
   },
   "outputs": [
    {
     "name": "stdout",
     "output_type": "stream",
     "text": [
      "Train f1 score 0.9647113716818647\n",
      "Test f1 score 0.9259692513368983\n"
     ]
    }
   ],
   "source": [
    "from sklearn.metrics import f1_score\n",
    "print('Train f1 score',f1_score(y_train,y_train_pred))\n",
    "print('Test f1 score',f1_score(y_test,y_test_pred))"
   ]
  },
  {
   "cell_type": "code",
   "execution_count": 72,
   "metadata": {
    "id": "5XfUkZYQHgl7"
   },
   "outputs": [],
   "source": [
    "from sklearn.metrics import confusion_matrix\n",
    "def plot_confusion_matrix(test_y, predict_y):\n",
    "    C = confusion_matrix(test_y, predict_y)\n",
    "    \n",
    "    A =(((C.T)/(C.sum(axis=1))).T)\n",
    "    \n",
    "    B =(C/C.sum(axis=0))\n",
    "    plt.figure(figsize=(20,4))\n",
    "    \n",
    "    labels = [0,1]\n",
    "    # representing A in heatmap format\n",
    "    cmap=sns.light_palette(\"blue\")\n",
    "    plt.subplot(1, 3, 1)\n",
    "    sns.heatmap(C, annot=True, cmap=cmap, fmt=\".3f\", xticklabels=labels, yticklabels=labels)\n",
    "    plt.xlabel('Predicted Class')\n",
    "    plt.ylabel('Original Class')\n",
    "    plt.title(\"Confusion matrix\")\n",
    "    \n",
    "    plt.subplot(1, 3, 2)\n",
    "    sns.heatmap(B, annot=True, cmap=cmap, fmt=\".3f\", xticklabels=labels, yticklabels=labels)\n",
    "    plt.xlabel('Predicted Class')\n",
    "    plt.ylabel('Original Class')\n",
    "    plt.title(\"Precision matrix\")\n",
    "    \n",
    "    plt.subplot(1, 3, 3)\n",
    "    # representing B in heatmap format\n",
    "    sns.heatmap(A, annot=True, cmap=cmap, fmt=\".3f\", xticklabels=labels, yticklabels=labels)\n",
    "    plt.xlabel('Predicted Class')\n",
    "    plt.ylabel('Original Class')\n",
    "    plt.title(\"Recall matrix\")\n",
    "    \n",
    "    plt.show()"
   ]
  },
  {
   "cell_type": "code",
   "execution_count": 73,
   "metadata": {
    "id": "s6t11dhTHgl-",
    "outputId": "189de3be-1c99-4653-f56f-12b18b0f4db7"
   },
   "outputs": [
    {
     "name": "stdout",
     "output_type": "stream",
     "text": [
      "Train confusion_matrix\n"
     ]
    },
    {
     "data": {
      "image/png": "[encoded data removed]",
      "text/plain": [
       "<Figure size 1440x288 with 6 Axes>"
      ]
     },
     "metadata": {
      "needs_background": "light"
     },
     "output_type": "display_data"
    },
    {
     "name": "stdout",
     "output_type": "stream",
     "text": [
      "Test confusion_matrix\n"
     ]
    },
    {
     "data": {
      "image/png": "[encoded data removed]",
      "text/plain": [
       "<Figure size 1440x288 with 6 Axes>"
      ]
     },
     "metadata": {
      "needs_background": "light"
     },
     "output_type": "display_data"
    }
   ],
   "source": [
    "print('Train confusion_matrix')\n",
    "plot_confusion_matrix(y_train,y_train_pred)\n",
    "print('Test confusion_matrix')\n",
    "plot_confusion_matrix(y_test,y_test_pred)"
   ]
  },
  {
   "cell_type": "code",
   "execution_count": 74,
   "metadata": {
    "id": "61TF-VLeHgmD",
    "outputId": "795f1b39-61c7-470f-e2d0-1fe6dc7ac5fd"
   },
   "outputs": [
    {
     "data": {
      "image/png": "[encoded data removed]",
      "text/plain": [
       "<Figure size 432x288 with 1 Axes>"
      ]
     },
     "metadata": {
      "needs_background": "light"
     },
     "output_type": "display_data"
    }
   ],
   "source": [
    "from sklearn.metrics import roc_curve, auc\n",
    "fpr,tpr,ths = roc_curve(y_test,y_test_pred)\n",
    "auc_sc = auc(fpr, tpr)\n",
    "plt.plot(fpr, tpr, color='navy',label='ROC curve (area = %0.2f)' % auc_sc)\n",
    "plt.xlabel('False Positive Rate')\n",
    "plt.ylabel('True Positive Rate')\n",
    "plt.title('Receiver operating characteristic with test data')\n",
    "plt.legend()\n",
    "plt.show()"
   ]
  },
  {
   "cell_type": "code",
   "execution_count": 75,
   "metadata": {
    "id": "HEZ7uvN6HgmK",
    "outputId": "6f762256-54fc-4e2f-865b-22342033eb2c",
    "scrolled": false
   },
   "outputs": [
    {
     "data": {
      "image/png": "[encoded data removed]",
      "text/plain": [
       "<Figure size 720x864 with 1 Axes>"
      ]
     },
     "metadata": {
      "needs_background": "light"
     },
     "output_type": "display_data"
    }
   ],
   "source": [
    "features = df_final_train.columns\n",
    "importances = clf.feature_importances_\n",
    "indices = (np.argsort(importances))[-25:]\n",
    "plt.figure(figsize=(10,12))\n",
    "plt.title('Feature Importances')\n",
    "plt.barh(range(len(indices)), importances[indices], color='r', align='center')\n",
    "plt.yticks(range(len(indices)), [features[i] for i in indices])\n",
    "plt.xlabel('Relative Importance')\n",
    "plt.show()"
   ]
  },
  {
   "cell_type": "markdown",
   "metadata": {},
   "source": [
    "### XGBoost"
   ]
  },
  {
   "cell_type": "code",
   "execution_count": 81,
   "metadata": {},
   "outputs": [
    {
     "name": "stdout",
     "output_type": "stream",
     "text": [
      "Current Time =  2022-02-18 17:55:45.723460\n",
      "XGBClassifier(base_score=0.5, booster='gbtree', colsample_bylevel=1,\n",
      "              colsample_bynode=1, colsample_bytree=1, enable_categorical=False,\n",
      "              eval_metric='auc', gamma=0, gpu_id=-1, importance_type=None,\n",
      "              interaction_constraints='', learning_rate=0.3, max_delta_step=0,\n",
      "              max_depth=4, min_child_weight=2, missing=nan,\n",
      "              monotone_constraints='()', n_estimators=200, n_jobs=16,\n",
      "              num_parallel_tree=1, predictor='auto', random_state=0,\n",
      "              reg_alpha=0, reg_lambda=1, scale_pos_weight=1, subsample=1,\n",
      "              tree_method='exact', validate_parameters=1, verbosity=None)\n",
      "\n",
      "best_min_child_weight_xgb =  2\n",
      "best_max_depth_xgb =  4\n",
      "best_n_estimators_xgb =  200\n",
      "best_learning_rate_xgb =  0.3\n",
      "Time taken for creation of dataframe is 0:03:13.417151\n"
     ]
    }
   ],
   "source": [
    "startTime = datetime.datetime.now()\n",
    "print(\"Current Time = \",startTime)\n",
    "\n",
    "import xgboost as xgb\n",
    "from sklearn.model_selection import RandomizedSearchCV\n",
    "from sklearn.metrics import f1_score,make_scorer\n",
    "\n",
    "min_child_weight = [2,4,6]\n",
    "max_depth = [2,4,6]\n",
    "n_estimators =[100,200,300]\n",
    "learning_rate = [0.1,0.2,0.3]\n",
    "\n",
    "scorer = make_scorer(f1_score)\n",
    "tuned_parameters = {\n",
    "                    'min_child_weight':min_child_weight,\n",
    "                    'max_depth':max_depth,\n",
    "                    'n_estimators': n_estimators,\n",
    "                    'learning_rate':learning_rate}\n",
    "\n",
    "clf = xgb.XGBClassifier(eval_metric='auc')\n",
    "model_gbt = RandomizedSearchCV(clf,tuned_parameters,scoring =scorer,cv=3,pre_dispatch=2)\n",
    "model_gbt.fit(df_final_train,y_train)\n",
    "print(model_gbt.best_estimator_)\n",
    "\n",
    "best_min_child_weight_xgb = model_gbt.best_estimator_.min_child_weight\n",
    "best_max_depth_xgb = model_gbt.best_params_[\"max_depth\"]\n",
    "best_n_estimators_xgb = model_gbt.best_estimator_.n_estimators\n",
    "best_learning_rate_xgb = model_gbt.best_estimator_.learning_rate\n",
    "\n",
    "print(\"\\nbest_min_child_weight_xgb = \", best_min_child_weight_xgb)\n",
    "print(\"best_max_depth_xgb = \",best_max_depth_xgb)\n",
    "print(\"best_n_estimators_xgb = \", best_n_estimators_xgb)\n",
    "print(\"best_learning_rate_xgb = \",best_learning_rate_xgb)\n",
    "\n",
    "print(\"Time taken for creation of dataframe is {}\".format(datetime.datetime.now() - startTime))"
   ]
  },
  {
   "cell_type": "code",
   "execution_count": 83,
   "metadata": {},
   "outputs": [
    {
     "name": "stdout",
     "output_type": "stream",
     "text": [
      "Current Time =  2022-02-18 18:00:21.072634\n",
      "\n",
      "Train Score:  0.992777070957013\n",
      "Test Score:  0.9086790256879208\n",
      "Time taken for creation of dataframe is 0:00:10.899981\n"
     ]
    }
   ],
   "source": [
    "startTime = datetime.datetime.now()\n",
    "print(\"Current Time = \",startTime)\n",
    "\n",
    "xgb_best = xgb.XGBClassifier(objective='binary:logistic',learning_rate = best_learning_rate_xgb,\n",
    "                             min_child_weight = best_min_child_weight_xgb,n_estimators = best_n_estimators_xgb,\n",
    "                             max_depth = best_max_depth_xgb,eval_metric='auc')\n",
    "xgb_best.fit(df_final_train,y_train)\n",
    "pred_train = xgb_best.predict(df_final_train)\n",
    "pred_test = xgb_best.predict(df_final_test)\n",
    "\n",
    "train_score = f1_score(y_train,pred_train)\n",
    "test_score = f1_score(y_test,pred_test)\n",
    "print('\\nTrain Score: ',train_score)\n",
    "print('Test Score: ',test_score)\n",
    "\n",
    "print(\"Time taken for creation of dataframe is {}\".format(datetime.datetime.now() - startTime))"
   ]
  },
  {
   "cell_type": "code",
   "execution_count": 84,
   "metadata": {},
   "outputs": [
    {
     "name": "stdout",
     "output_type": "stream",
     "text": [
      "Train confusion_matrix\n"
     ]
    },
    {
     "data": {
      "image/png": "[encoded data removed]",
      "text/plain": [
       "<Figure size 1440x288 with 6 Axes>"
      ]
     },
     "metadata": {
      "needs_background": "light"
     },
     "output_type": "display_data"
    },
    {
     "name": "stdout",
     "output_type": "stream",
     "text": [
      "Test confusion_matrix\n"
     ]
    },
    {
     "data": {
      "image/png": "[encoded data removed]",
      "text/plain": [
       "<Figure size 1440x288 with 6 Axes>"
      ]
     },
     "metadata": {
      "needs_background": "light"
     },
     "output_type": "display_data"
    }
   ],
   "source": [
    "print('Train confusion_matrix')\n",
    "plot_confusion_matrix(y_train,pred_train)\n",
    "print('Test confusion_matrix')\n",
    "plot_confusion_matrix(y_test,pred_test)"
   ]
  },
  {
   "cell_type": "code",
   "execution_count": 85,
   "metadata": {},
   "outputs": [
    {
     "data": {
      "image/png": "[encoded data removed]",
      "text/plain": [
       "<Figure size 432x288 with 1 Axes>"
      ]
     },
     "metadata": {
      "needs_background": "light"
     },
     "output_type": "display_data"
    }
   ],
   "source": [
    "from sklearn.metrics import roc_curve, auc\n",
    "fpr,tpr,ths = roc_curve(y_test,pred_test)\n",
    "auc_sc = auc(fpr, tpr)\n",
    "plt.plot(fpr, tpr, color='navy',label='ROC curve (area = %0.2f)' % auc_sc)\n",
    "plt.xlabel('False Positive Rate')\n",
    "plt.ylabel('True Positive Rate')\n",
    "plt.title('Receiver operating characteristic with test data')\n",
    "plt.legend()\n",
    "plt.show()"
   ]
  },
  {
   "cell_type": "code",
   "execution_count": 86,
   "metadata": {},
   "outputs": [
    {
     "data": {
      "image/png": "[encoded data removed]",
      "text/plain": [
       "<Figure size 720x864 with 1 Axes>"
      ]
     },
     "metadata": {
      "needs_background": "light"
     },
     "output_type": "display_data"
    }
   ],
   "source": [
    "features = df_final_train.columns\n",
    "importances = xgb_best.feature_importances_\n",
    "indices = (np.argsort(importances))[-25:]\n",
    "plt.figure(figsize=(10,12))\n",
    "plt.title('Feature Importances')\n",
    "plt.barh(range(len(indices)), importances[indices], color='r', align='center')\n",
    "plt.yticks(range(len(indices)), [features[i] for i in indices])\n",
    "plt.xlabel('Relative Importance')\n",
    "plt.show()"
   ]
  },
  {
   "cell_type": "code",
   "execution_count": 88,
   "metadata": {},
   "outputs": [
    {
     "name": "stdout",
     "output_type": "stream",
     "text": [
      "Collecting prettytable\n",
      "  Downloading prettytable-3.1.1-py3-none-any.whl (26 kB)\n",
      "Requirement already satisfied: wcwidth in c:\\users\\ashis\\anaconda3\\lib\\site-packages (from prettytable) (0.2.5)\n",
      "Installing collected packages: prettytable\n",
      "Successfully installed prettytable-3.1.1\n",
      "Note: you may need to restart the kernel to use updated packages.\n"
     ]
    }
   ],
   "source": [
    "pip install prettytable"
   ]
  },
  {
   "cell_type": "code",
   "execution_count": 89,
   "metadata": {},
   "outputs": [
    {
     "name": "stdout",
     "output_type": "stream",
     "text": [
      "+--------------------+--------------------+--------------------+\n",
      "| Model \\ Parameters |   Train f1_score   |   Test f1_score    |\n",
      "+--------------------+--------------------+--------------------+\n",
      "|   RandomForest:    | 0.9647113716818647 | 0.9259692513368983 |\n",
      "|  XGBClassifier:    | 0.992777070957013  | 0.9086790256879208 |\n",
      "+--------------------+--------------------+--------------------+\n"
     ]
    }
   ],
   "source": [
    "from prettytable import PrettyTable\n",
    "x = PrettyTable()\n",
    "x.field_names = [\"Model \\ Parameters\",\"Train f1_score\",\"Test f1_score\"]\n",
    "x.add_row([\"RandomForest: \",0.9647113716818647,0.9259692513368983])\n",
    "x.add_row([\"XGBClassifier: \",0.992777070957013,0.9086790256879208])\n",
    "print(x)"
   ]
  }
 ],
 "metadata": {
  "colab": {
   "collapsed_sections": [],
   "name": "FB_Models.ipynb",
   "provenance": []
  },
  "kernelspec": {
   "display_name": "Python 3 (ipykernel)",
   "language": "python",
   "name": "python3"
  },
  "language_info": {
   "codemirror_mode": {
    "name": "ipython",
    "version": 3
   },
   "file_extension": ".py",
   "mimetype": "text/x-python",
   "name": "python",
   "nbconvert_exporter": "python",
   "pygments_lexer": "ipython3",
   "version": "3.9.7"
  }
 },
 "nbformat": 4,
 "nbformat_minor": 1
}
